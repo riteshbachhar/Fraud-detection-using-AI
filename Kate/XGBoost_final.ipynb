{
  "nbformat": 4,
  "nbformat_minor": 0,
  "metadata": {
    "colab": {
      "provenance": []
    },
    "kernelspec": {
      "name": "python3",
      "display_name": "Python 3"
    },
    "language_info": {
      "name": "python"
    }
  },
  "cells": [
    {
      "cell_type": "markdown",
      "source": [
        "# XGBoost"
      ],
      "metadata": {
        "id": "mf9c77p-RNVg"
      }
    },
    {
      "cell_type": "markdown",
      "source": [
        "**Import train, val, test sets from Google Drive**"
      ],
      "metadata": {
        "id": "UDY0CvNbJ0h4"
      }
    },
    {
      "cell_type": "code",
      "execution_count": 1,
      "metadata": {
        "colab": {
          "base_uri": "https://localhost:8080/"
        },
        "id": "qhYKjoeHJk5x",
        "outputId": "bb6e1c89-ee56-487b-c6e7-d07b79e6f143"
      },
      "outputs": [
        {
          "output_type": "stream",
          "name": "stdout",
          "text": [
            "Drive already mounted at /content/drive; to attempt to forcibly remount, call drive.mount(\"/content/drive\", force_remount=True).\n"
          ]
        }
      ],
      "source": [
        "from google.colab import drive\n",
        "drive.mount('/content/drive')\n",
        "drive_path = '/content/drive/MyDrive/Colab Notebooks/'"
      ]
    },
    {
      "cell_type": "code",
      "source": [
        "import pandas as pd\n",
        "import polars as pl\n",
        "from datetime import timedelta\n",
        "import os"
      ],
      "metadata": {
        "id": "6dbr-6G9LWdM"
      },
      "execution_count": 2,
      "outputs": []
    },
    {
      "cell_type": "code",
      "source": [
        "df_train = pl.read_parquet(os.path.join(drive_path, \"df_train.parquet\"))\n",
        "df_val = pl.read_parquet(os.path.join(drive_path, \"df_val.parquet\"))\n",
        "df_test = pl.read_parquet(os.path.join(drive_path, \"df_test.parquet\"))"
      ],
      "metadata": {
        "id": "pah8B6aAJxs_"
      },
      "execution_count": 3,
      "outputs": []
    },
    {
      "cell_type": "code",
      "source": [
        "# Combine df_train and df_val for final model training\n",
        "df_train = df_train.vstack(df_val)"
      ],
      "metadata": {
        "id": "GUtYBoNMs1-o"
      },
      "execution_count": 4,
      "outputs": []
    },
    {
      "cell_type": "code",
      "source": [
        "df_test.height"
      ],
      "metadata": {
        "colab": {
          "base_uri": "https://localhost:8080/"
        },
        "id": "RyJ5yryCBVjM",
        "outputId": "b84d500f-1bf2-4d1a-c892-7fa7fb826891"
      },
      "execution_count": 5,
      "outputs": [
        {
          "output_type": "execute_result",
          "data": {
            "text/plain": [
              "1030388"
            ]
          },
          "metadata": {},
          "execution_count": 5
        }
      ]
    },
    {
      "cell_type": "markdown",
      "source": [
        "**Training**"
      ],
      "metadata": {
        "id": "K3KwIpClsihd"
      }
    },
    {
      "cell_type": "code",
      "source": [
        "pip install xgboost==1.7.6"
      ],
      "metadata": {
        "id": "6zadRyS5zgNj",
        "colab": {
          "base_uri": "https://localhost:8080/"
        },
        "outputId": "c398c64a-a661-49fb-e71f-99e6982aa13c"
      },
      "execution_count": 6,
      "outputs": [
        {
          "output_type": "stream",
          "name": "stdout",
          "text": [
            "Requirement already satisfied: xgboost==1.7.6 in /usr/local/lib/python3.12/dist-packages (1.7.6)\n",
            "Requirement already satisfied: numpy in /usr/local/lib/python3.12/dist-packages (from xgboost==1.7.6) (2.0.2)\n",
            "Requirement already satisfied: scipy in /usr/local/lib/python3.12/dist-packages (from xgboost==1.7.6) (1.16.2)\n"
          ]
        }
      ]
    },
    {
      "cell_type": "code",
      "source": [
        "import xgboost as xgb\n",
        "from xgboost import XGBClassifier\n",
        "from sklearn.metrics import f1_score, accuracy_score, confusion_matrix, classification_report, roc_auc_score, precision_score, recall_score, precision_recall_curve\n",
        "import pandas as pd"
      ],
      "metadata": {
        "id": "ZINyH0VLN1Yg"
      },
      "execution_count": 7,
      "outputs": []
    },
    {
      "cell_type": "code",
      "source": [
        "opt_features = [\"Amount\", \"year\", \"day_of_month\", \"day_of_week\", \"hour\", \"minute\", \"second\",\n",
        "            \"currency_mismatch\", \"high_risk_sender\", \"high_risk_receiver\",\n",
        "            \"fanin_30d\", \"fanin_intensity_ratio\",\n",
        "            \"sent_to_received_ratio_monthly\", \"back_and_forth_transfers\",\n",
        "            \"circular_transaction_count\", \"Is_laundering\"]"
      ],
      "metadata": {
        "id": "8DaKdAIFhTYF"
      },
      "execution_count": 8,
      "outputs": []
    },
    {
      "cell_type": "code",
      "source": [
        "# Configuration\n",
        "features = opt_features[:-1]\n",
        "target = opt_features[-1]\n",
        "early_stopping_rounds = 50\n",
        "num_boost_round = 500\n",
        "verbose_eval = False        # set to integer for logging every k rounds"
      ],
      "metadata": {
        "id": "whyHTi1lsu0T"
      },
      "execution_count": 9,
      "outputs": []
    },
    {
      "cell_type": "code",
      "source": [
        "# 1) Convert Polars -> NumPy once (casting to float32)\n",
        "#    Handle missing values and simple categorical encoding if needed.\n",
        "def polars_to_numpy_for_xgb(df_pl: pl.DataFrame, features, target):\n",
        "    # Ensure numeric features; cast numeric-like to Float32\n",
        "    X_df = df_pl.select([pl.col(c).cast(pl.Float32).alias(c) for c in features])\n",
        "    y_arr = df_pl.select(pl.col(target)).to_numpy().ravel()\n",
        "    X_arr = X_df.to_numpy()\n",
        "    return X_arr, y_arr\n",
        "\n",
        "X_train, y_train = polars_to_numpy_for_xgb(df_train, features, target)\n",
        "X_test, y_test = polars_to_numpy_for_xgb(df_test, features, target)"
      ],
      "metadata": {
        "id": "5ptOr16esh7d"
      },
      "execution_count": 10,
      "outputs": []
    },
    {
      "cell_type": "code",
      "source": [
        "# 2) Build DMatrix once per dataset (faster than rebuilding inside loop)\n",
        "dtrain = xgb.DMatrix(X_train, label=y_train, feature_names=features)\n",
        "dtest = xgb.DMatrix(X_test, label=y_test, feature_names=features)\n",
        "watchlist = [(dtrain, \"train\"), (dtest, \"eval\")]"
      ],
      "metadata": {
        "id": "NxEw-XvqtKcq"
      },
      "execution_count": 11,
      "outputs": []
    },
    {
      "cell_type": "code",
      "source": [
        "params = {\n",
        "        \"max_depth\": 10, #3,\n",
        "        \"eta\": 0.01, #0.1,                 # alias for learning_rate in xgb.train params\n",
        "        \"subsample\": 1,             #0.3,\n",
        "        \"objective\": \"binary:logistic\",\n",
        "        \"eval_metric\": \"logloss\",\n",
        "        \"seed\": 42,\n",
        "        \"verbosity\": 0,\n",
        "        \"nthread\": -1\n",
        "    }"
      ],
      "metadata": {
        "id": "EoFwhGNOr-V8"
      },
      "execution_count": 12,
      "outputs": []
    },
    {
      "cell_type": "code",
      "source": [
        "final_model = xgb.train(\n",
        "        params,\n",
        "        dtrain,\n",
        "        num_boost_round=num_boost_round,\n",
        "        evals=watchlist,\n",
        "        verbose_eval=verbose_eval\n",
        "    )"
      ],
      "metadata": {
        "id": "JtzTq_UNsJze"
      },
      "execution_count": 13,
      "outputs": []
    },
    {
      "cell_type": "code",
      "source": [
        "final_model.save_model(f'{drive_path}/final_model.xgb')"
      ],
      "metadata": {
        "id": "H_zHMaSJbtd_"
      },
      "execution_count": 15,
      "outputs": []
    },
    {
      "cell_type": "code",
      "source": [
        "preds_proba = final_model.predict(dtest)\n",
        "preds = (preds_proba > 0.5).astype(int)"
      ],
      "metadata": {
        "id": "5EhlaYHHtlgW"
      },
      "execution_count": 16,
      "outputs": []
    },
    {
      "cell_type": "code",
      "source": [
        "import matplotlib.pyplot as plt\n",
        "import seaborn as sns\n",
        "from sklearn.metrics import precision_recall_curve, auc, roc_curve, roc_auc_score, average_precision_score"
      ],
      "metadata": {
        "id": "vJZbf_C92TJs"
      },
      "execution_count": 17,
      "outputs": []
    },
    {
      "cell_type": "code",
      "source": [
        "# Confusion Matrix\n",
        "cm = confusion_matrix(y_test, preds)\n",
        "\n",
        "plt.figure(figsize=(8, 6))\n",
        "sns.heatmap(cm, annot=True, fmt='d', cmap='Blues',\n",
        "            xticklabels=['Normal', 'High-Risk'],\n",
        "            yticklabels=['Normal', 'High-Risk'])\n",
        "plt.title('Confusion Matrix - Test Set', fontsize=14, fontweight='bold')\n",
        "plt.ylabel('Actual')\n",
        "plt.xlabel('Predicted')\n",
        "plt.show()"
      ],
      "metadata": {
        "id": "OH6FDInbvKX6",
        "colab": {
          "base_uri": "https://localhost:8080/",
          "height": 565
        },
        "outputId": "831a1de2-1799-4a14-fa93-e51365fc5d24"
      },
      "execution_count": 18,
      "outputs": [
        {
          "output_type": "display_data",
          "data": {
            "text/plain": [
              "<Figure size 800x600 with 2 Axes>"
            ],
            "image/png": "[encoded data removed]"
          },
          "metadata": {}
        }
      ]
    },
    {
      "cell_type": "code",
      "source": [
        "# Precision-Recall Curve\n",
        "precision, recall, thresholds_pr = precision_recall_curve(y_test, preds_proba)\n",
        "test_auc = auc(recall, precision)\n",
        "avg_prec = average_precision_score(y_test, preds_proba)\n",
        "\n",
        "\n",
        "plt.figure(figsize=(10, 6))\n",
        "plt.plot(recall, precision, linewidth=2, label=f'Average Precision = {avg_prec:.4f}')\n",
        "plt.xlabel('Recall', fontsize=12)\n",
        "plt.ylabel('Precision', fontsize=12)\n",
        "plt.title('Precision-Recall Curve', fontsize=14, fontweight='bold')\n",
        "plt.legend()\n",
        "plt.grid(alpha=0.3)\n",
        "plt.show()"
      ],
      "metadata": {
        "id": "vjJ86QJ5vSOY",
        "colab": {
          "base_uri": "https://localhost:8080/",
          "height": 569
        },
        "outputId": "e09b54b1-ece7-48c9-db93-70a80d55f1ce"
      },
      "execution_count": 19,
      "outputs": [
        {
          "output_type": "display_data",
          "data": {
            "text/plain": [
              "<Figure size 1000x600 with 1 Axes>"
            ],
            "image/png": "[encoded data removed]"
          },
          "metadata": {}
        }
      ]
    },
    {
      "cell_type": "code",
      "source": [
        "recall, precision, thresholds_pr"
      ],
      "metadata": {
        "id": "EJcAENtf0ogW",
        "colab": {
          "base_uri": "https://localhost:8080/"
        },
        "outputId": "510b7c03-dfbd-4c09-ec22-70240d4a556a"
      },
      "execution_count": 20,
      "outputs": [
        {
          "output_type": "execute_result",
          "data": {
            "text/plain": [
              "(array([1.00000000e+00, 1.00000000e+00, 1.00000000e+00, ...,\n",
              "        6.67779633e-03, 8.34724541e-04, 0.00000000e+00]),\n",
              " array([0.00116267, 0.00220378, 0.00220382, ..., 1.        , 1.        ,\n",
              "        1.        ]),\n",
              " array([0.00335769, 0.00335774, 0.0033578 , ..., 0.9961842 , 0.9962883 ,\n",
              "        0.9971517 ], dtype=float32))"
            ]
          },
          "metadata": {},
          "execution_count": 20
        }
      ]
    },
    {
      "cell_type": "code",
      "source": [
        "import numpy as np\n",
        "# Save list and NumPy arrays using pickle\n",
        "with open(os.path.join(drive_path, \"XGBoost_recall.npy\"), \"wb\") as f:\n",
        "    np.save(f, recall)\n",
        "\n",
        "with open(os.path.join(drive_path, \"XGBoost_precision.npy\"), \"wb\") as f:\n",
        "    np.save(f, precision)\n",
        "\n",
        "with open(os.path.join(drive_path, \"XGBoost_thresholds.npy\"), \"wb\") as f:\n",
        "    np.save(f, thresholds_pr)"
      ],
      "metadata": {
        "id": "mub4nbAu10YF"
      },
      "execution_count": 21,
      "outputs": []
    },
    {
      "cell_type": "code",
      "source": [
        "# True Positve Rate - False Positive Rate\n",
        "fpr, tpr, thresholds = roc_curve(y_test, preds_proba)\n",
        "roc_auc = auc(fpr, tpr)\n",
        "\n",
        "plt.figure(figsize=(10, 6))\n",
        "plt.plot(fpr, tpr, linewidth=2, label=f'AUC-ROC = {roc_auc:.4f}')\n",
        "plt.xlabel('False Positive Rate', fontsize=12)\n",
        "plt.ylabel('True Positive Rate', fontsize=12)\n",
        "plt.title('ROC Curve', fontsize=14, fontweight='bold')\n",
        "plt.legend()\n",
        "plt.grid(alpha=0.3)\n",
        "plt.show()"
      ],
      "metadata": {
        "id": "zIUplIFQ7FWP",
        "colab": {
          "base_uri": "https://localhost:8080/",
          "height": 569
        },
        "outputId": "3febd10f-6ecb-4d99-b845-047337578a58"
      },
      "execution_count": 22,
      "outputs": [
        {
          "output_type": "display_data",
          "data": {
            "text/plain": [
              "<Figure size 1000x600 with 1 Axes>"
            ],
            "image/png": "[encoded data removed]"
          },
          "metadata": {}
        }
      ]
    },
    {
      "cell_type": "code",
      "source": [
        "report_dict = classification_report(y_test, preds, output_dict=True)\n",
        "report_df = pd.DataFrame(report_dict)\n",
        "report_df"
      ],
      "metadata": {
        "id": "gEIxKwQMuhJv",
        "colab": {
          "base_uri": "https://localhost:8080/",
          "height": 175
        },
        "outputId": "418c0e9f-6df4-4af7-cef3-b2db9a3d521f"
      },
      "execution_count": 24,
      "outputs": [
        {
          "output_type": "execute_result",
          "data": {
            "text/plain": [
              "                      0            1  accuracy     macro avg  weighted avg\n",
              "precision  9.993174e-01     0.887097  0.999257  9.432071e-01  9.991869e-01\n",
              "recall     9.999388e-01     0.413189  0.999257  7.065637e-01  9.992566e-01\n",
              "f1-score   9.996280e-01     0.563781  0.999257  7.817046e-01  9.991212e-01\n",
              "support    1.029190e+06  1198.000000  0.999257  1.030388e+06  1.030388e+06"
            ],
            "text/html": [
              "\n",
              "  <div id=\"df-1ef2611e-731c-4158-b6ec-2e3dce35dee7\" class=\"colab-df-container\">\n",
              "    <div>\n",
              "<style scoped>\n",
              "    .dataframe tbody tr th:only-of-type {\n",
              "        vertical-align: middle;\n",
              "    }\n",
              "\n",
              "    .dataframe tbody tr th {\n",
              "        vertical-align: top;\n",
              "    }\n",
              "\n",
              "    .dataframe thead th {\n",
              "        text-align: right;\n",
              "    }\n",
              "</style>\n",
              "<table border=\"1\" class=\"dataframe\">\n",
              "  <thead>\n",
              "    <tr style=\"text-align: right;\">\n",
              "      <th></th>\n",
              "      <th>0</th>\n",
              "      <th>1</th>\n",
              "      <th>accuracy</th>\n",
              "      <th>macro avg</th>\n",
              "      <th>weighted avg</th>\n",
              "    </tr>\n",
              "  </thead>\n",
              "  <tbody>\n",
              "    <tr>\n",
              "      <th>precision</th>\n",
              "      <td>9.993174e-01</td>\n",
              "      <td>0.887097</td>\n",
              "      <td>0.999257</td>\n",
              "      <td>9.432071e-01</td>\n",
              "      <td>9.991869e-01</td>\n",
              "    </tr>\n",
              "    <tr>\n",
              "      <th>recall</th>\n",
              "      <td>9.999388e-01</td>\n",
              "      <td>0.413189</td>\n",
              "      <td>0.999257</td>\n",
              "      <td>7.065637e-01</td>\n",
              "      <td>9.992566e-01</td>\n",
              "    </tr>\n",
              "    <tr>\n",
              "      <th>f1-score</th>\n",
              "      <td>9.996280e-01</td>\n",
              "      <td>0.563781</td>\n",
              "      <td>0.999257</td>\n",
              "      <td>7.817046e-01</td>\n",
              "      <td>9.991212e-01</td>\n",
              "    </tr>\n",
              "    <tr>\n",
              "      <th>support</th>\n",
              "      <td>1.029190e+06</td>\n",
              "      <td>1198.000000</td>\n",
              "      <td>0.999257</td>\n",
              "      <td>1.030388e+06</td>\n",
              "      <td>1.030388e+06</td>\n",
              "    </tr>\n",
              "  </tbody>\n",
              "</table>\n",
              "</div>\n",
              "    <div class=\"colab-df-buttons\">\n",
              "\n",
              "  <div class=\"colab-df-container\">\n",
              "    <button class=\"colab-df-convert\" onclick=\"convertToInteractive('df-1ef2611e-731c-4158-b6ec-2e3dce35dee7')\"\n",
              "            title=\"Convert this dataframe to an interactive table.\"\n",
              "            style=\"display:none;\">\n",
              "\n",
              "  <svg xmlns=\"http://www.w3.org/2000/svg\" height=\"24px\" viewBox=\"0 -960 960 960\">\n",
              "    <path d=\"M120-120v-720h720v720H120Zm60-500h600v-160H180v160Zm220 220h160v-160H400v160Zm0 220h160v-160H400v160ZM180-400h160v-160H180v160Zm440 0h160v-160H620v160ZM180-180h160v-160H180v160Zm440 0h160v-160H620v160Z\"/>\n",
              "  </svg>\n",
              "    </button>\n",
              "\n",
              "  <style>\n",
              "    .colab-df-container {\n",
              "      display:flex;\n",
              "      gap: 12px;\n",
              "    }\n",
              "\n",
              "    .colab-df-convert {\n",
              "      background-color: #E8F0FE;\n",
              "      border: none;\n",
              "      border-radius: 50%;\n",
              "      cursor: pointer;\n",
              "      display: none;\n",
              "      fill: #1967D2;\n",
              "      height: 32px;\n",
              "      padding: 0 0 0 0;\n",
              "      width: 32px;\n",
              "    }\n",
              "\n",
              "    .colab-df-convert:hover {\n",
              "      background-color: #E2EBFA;\n",
              "      box-shadow: 0px 1px 2px rgba(60, 64, 67, 0.3), 0px 1px 3px 1px rgba(60, 64, 67, 0.15);\n",
              "      fill: #174EA6;\n",
              "    }\n",
              "\n",
              "    .colab-df-buttons div {\n",
              "      margin-bottom: 4px;\n",
              "    }\n",
              "\n",
              "    [theme=dark] .colab-df-convert {\n",
              "      background-color: #3B4455;\n",
              "      fill: #D2E3FC;\n",
              "    }\n",
              "\n",
              "    [theme=dark] .colab-df-convert:hover {\n",
              "      background-color: #434B5C;\n",
              "      box-shadow: 0px 1px 3px 1px rgba(0, 0, 0, 0.15);\n",
              "      filter: drop-shadow(0px 1px 2px rgba(0, 0, 0, 0.3));\n",
              "      fill: #FFFFFF;\n",
              "    }\n",
              "  </style>\n",
              "\n",
              "    <script>\n",
              "      const buttonEl =\n",
              "        document.querySelector('#df-1ef2611e-731c-4158-b6ec-2e3dce35dee7 button.colab-df-convert');\n",
              "      buttonEl.style.display =\n",
              "        google.colab.kernel.accessAllowed ? 'block' : 'none';\n",
              "\n",
              "      async function convertToInteractive(key) {\n",
              "        const element = document.querySelector('#df-1ef2611e-731c-4158-b6ec-2e3dce35dee7');\n",
              "        const dataTable =\n",
              "          await google.colab.kernel.invokeFunction('convertToInteractive',\n",
              "                                                    [key], {});\n",
              "        if (!dataTable) return;\n",
              "\n",
              "        const docLinkHtml = 'Like what you see? Visit the ' +\n",
              "          '<a target=\"_blank\" href=https://colab.research.google.com/notebooks/data_table.ipynb>data table notebook</a>'\n",
              "          + ' to learn more about interactive tables.';\n",
              "        element.innerHTML = '';\n",
              "        dataTable['output_type'] = 'display_data';\n",
              "        await google.colab.output.renderOutput(dataTable, element);\n",
              "        const docLink = document.createElement('div');\n",
              "        docLink.innerHTML = docLinkHtml;\n",
              "        element.appendChild(docLink);\n",
              "      }\n",
              "    </script>\n",
              "  </div>\n",
              "\n",
              "\n",
              "    <div id=\"df-bb338a97-0321-4962-b710-0794b71b6d00\">\n",
              "      <button class=\"colab-df-quickchart\" onclick=\"quickchart('df-bb338a97-0321-4962-b710-0794b71b6d00')\"\n",
              "                title=\"Suggest charts\"\n",
              "                style=\"display:none;\">\n",
              "\n",
              "<svg xmlns=\"http://www.w3.org/2000/svg\" height=\"24px\"viewBox=\"0 0 24 24\"\n",
              "     width=\"24px\">\n",
              "    <g>\n",
              "        <path d=\"M19 3H5c-1.1 0-2 .9-2 2v14c0 1.1.9 2 2 2h14c1.1 0 2-.9 2-2V5c0-1.1-.9-2-2-2zM9 17H7v-7h2v7zm4 0h-2V7h2v10zm4 0h-2v-4h2v4z\"/>\n",
              "    </g>\n",
              "</svg>\n",
              "      </button>\n",
              "\n",
              "<style>\n",
              "  .colab-df-quickchart {\n",
              "      --bg-color: #E8F0FE;\n",
              "      --fill-color: #1967D2;\n",
              "      --hover-bg-color: #E2EBFA;\n",
              "      --hover-fill-color: #174EA6;\n",
              "      --disabled-fill-color: #AAA;\n",
              "      --disabled-bg-color: #DDD;\n",
              "  }\n",
              "\n",
              "  [theme=dark] .colab-df-quickchart {\n",
              "      --bg-color: #3B4455;\n",
              "      --fill-color: #D2E3FC;\n",
              "      --hover-bg-color: #434B5C;\n",
              "      --hover-fill-color: #FFFFFF;\n",
              "      --disabled-bg-color: #3B4455;\n",
              "      --disabled-fill-color: #666;\n",
              "  }\n",
              "\n",
              "  .colab-df-quickchart {\n",
              "    background-color: var(--bg-color);\n",
              "    border: none;\n",
              "    border-radius: 50%;\n",
              "    cursor: pointer;\n",
              "    display: none;\n",
              "    fill: var(--fill-color);\n",
              "    height: 32px;\n",
              "    padding: 0;\n",
              "    width: 32px;\n",
              "  }\n",
              "\n",
              "  .colab-df-quickchart:hover {\n",
              "    background-color: var(--hover-bg-color);\n",
              "    box-shadow: 0 1px 2px rgba(60, 64, 67, 0.3), 0 1px 3px 1px rgba(60, 64, 67, 0.15);\n",
              "    fill: var(--button-hover-fill-color);\n",
              "  }\n",
              "\n",
              "  .colab-df-quickchart-complete:disabled,\n",
              "  .colab-df-quickchart-complete:disabled:hover {\n",
              "    background-color: var(--disabled-bg-color);\n",
              "    fill: var(--disabled-fill-color);\n",
              "    box-shadow: none;\n",
              "  }\n",
              "\n",
              "  .colab-df-spinner {\n",
              "    border: 2px solid var(--fill-color);\n",
              "    border-color: transparent;\n",
              "    border-bottom-color: var(--fill-color);\n",
              "    animation:\n",
              "      spin 1s steps(1) infinite;\n",
              "  }\n",
              "\n",
              "  @keyframes spin {\n",
              "    0% {\n",
              "      border-color: transparent;\n",
              "      border-bottom-color: var(--fill-color);\n",
              "      border-left-color: var(--fill-color);\n",
              "    }\n",
              "    20% {\n",
              "      border-color: transparent;\n",
              "      border-left-color: var(--fill-color);\n",
              "      border-top-color: var(--fill-color);\n",
              "    }\n",
              "    30% {\n",
              "      border-color: transparent;\n",
              "      border-left-color: var(--fill-color);\n",
              "      border-top-color: var(--fill-color);\n",
              "      border-right-color: var(--fill-color);\n",
              "    }\n",
              "    40% {\n",
              "      border-color: transparent;\n",
              "      border-right-color: var(--fill-color);\n",
              "      border-top-color: var(--fill-color);\n",
              "    }\n",
              "    60% {\n",
              "      border-color: transparent;\n",
              "      border-right-color: var(--fill-color);\n",
              "    }\n",
              "    80% {\n",
              "      border-color: transparent;\n",
              "      border-right-color: var(--fill-color);\n",
              "      border-bottom-color: var(--fill-color);\n",
              "    }\n",
              "    90% {\n",
              "      border-color: transparent;\n",
              "      border-bottom-color: var(--fill-color);\n",
              "    }\n",
              "  }\n",
              "</style>\n",
              "\n",
              "      <script>\n",
              "        async function quickchart(key) {\n",
              "          const quickchartButtonEl =\n",
              "            document.querySelector('#' + key + ' button');\n",
              "          quickchartButtonEl.disabled = true;  // To prevent multiple clicks.\n",
              "          quickchartButtonEl.classList.add('colab-df-spinner');\n",
              "          try {\n",
              "            const charts = await google.colab.kernel.invokeFunction(\n",
              "                'suggestCharts', [key], {});\n",
              "          } catch (error) {\n",
              "            console.error('Error during call to suggestCharts:', error);\n",
              "          }\n",
              "          quickchartButtonEl.classList.remove('colab-df-spinner');\n",
              "          quickchartButtonEl.classList.add('colab-df-quickchart-complete');\n",
              "        }\n",
              "        (() => {\n",
              "          let quickchartButtonEl =\n",
              "            document.querySelector('#df-bb338a97-0321-4962-b710-0794b71b6d00 button');\n",
              "          quickchartButtonEl.style.display =\n",
              "            google.colab.kernel.accessAllowed ? 'block' : 'none';\n",
              "        })();\n",
              "      </script>\n",
              "    </div>\n",
              "\n",
              "  <div id=\"id_fd4cad43-bc75-4cf3-943d-1b18db3aa629\">\n",
              "    <style>\n",
              "      .colab-df-generate {\n",
              "        background-color: #E8F0FE;\n",
              "        border: none;\n",
              "        border-radius: 50%;\n",
              "        cursor: pointer;\n",
              "        display: none;\n",
              "        fill: #1967D2;\n",
              "        height: 32px;\n",
              "        padding: 0 0 0 0;\n",
              "        width: 32px;\n",
              "      }\n",
              "\n",
              "      .colab-df-generate:hover {\n",
              "        background-color: #E2EBFA;\n",
              "        box-shadow: 0px 1px 2px rgba(60, 64, 67, 0.3), 0px 1px 3px 1px rgba(60, 64, 67, 0.15);\n",
              "        fill: #174EA6;\n",
              "      }\n",
              "\n",
              "      [theme=dark] .colab-df-generate {\n",
              "        background-color: #3B4455;\n",
              "        fill: #D2E3FC;\n",
              "      }\n",
              "\n",
              "      [theme=dark] .colab-df-generate:hover {\n",
              "        background-color: #434B5C;\n",
              "        box-shadow: 0px 1px 3px 1px rgba(0, 0, 0, 0.15);\n",
              "        filter: drop-shadow(0px 1px 2px rgba(0, 0, 0, 0.3));\n",
              "        fill: #FFFFFF;\n",
              "      }\n",
              "    </style>\n",
              "    <button class=\"colab-df-generate\" onclick=\"generateWithVariable('report_df')\"\n",
              "            title=\"Generate code using this dataframe.\"\n",
              "            style=\"display:none;\">\n",
              "\n",
              "  <svg xmlns=\"http://www.w3.org/2000/svg\" height=\"24px\"viewBox=\"0 0 24 24\"\n",
              "       width=\"24px\">\n",
              "    <path d=\"M7,19H8.4L18.45,9,17,7.55,7,17.6ZM5,21V16.75L18.45,3.32a2,2,0,0,1,2.83,0l1.4,1.43a1.91,1.91,0,0,1,.58,1.4,1.91,1.91,0,0,1-.58,1.4L9.25,21ZM18.45,9,17,7.55Zm-12,3A5.31,5.31,0,0,0,4.9,8.1,5.31,5.31,0,0,0,1,6.5,5.31,5.31,0,0,0,4.9,4.9,5.31,5.31,0,0,0,6.5,1,5.31,5.31,0,0,0,8.1,4.9,5.31,5.31,0,0,0,12,6.5,5.46,5.46,0,0,0,6.5,12Z\"/>\n",
              "  </svg>\n",
              "    </button>\n",
              "    <script>\n",
              "      (() => {\n",
              "      const buttonEl =\n",
              "        document.querySelector('#id_fd4cad43-bc75-4cf3-943d-1b18db3aa629 button.colab-df-generate');\n",
              "      buttonEl.style.display =\n",
              "        google.colab.kernel.accessAllowed ? 'block' : 'none';\n",
              "\n",
              "      buttonEl.onclick = () => {\n",
              "        google.colab.notebook.generateWithVariable('report_df');\n",
              "      }\n",
              "      })();\n",
              "    </script>\n",
              "  </div>\n",
              "\n",
              "    </div>\n",
              "  </div>\n"
            ],
            "application/vnd.google.colaboratory.intrinsic+json": {
              "type": "dataframe",
              "variable_name": "report_df",
              "summary": "{\n  \"name\": \"report_df\",\n  \"rows\": 4,\n  \"fields\": [\n    {\n      \"column\": \"0\",\n      \"properties\": {\n        \"dtype\": \"number\",\n        \"std\": 514594.5001859786,\n        \"min\": 0.9993173630599225,\n        \"max\": 1029190.0,\n        \"num_unique_values\": 4,\n        \"samples\": [\n          0.9999387868129306,\n          1029190.0,\n          0.9993173630599225\n        ],\n        \"semantic_type\": \"\",\n        \"description\": \"\"\n      }\n    },\n    {\n      \"column\": \"1\",\n      \"properties\": {\n        \"dtype\": \"number\",\n        \"std\": 598.6893548548602,\n        \"min\": 0.41318864774624375,\n        \"max\": 1198.0,\n        \"num_unique_values\": 4,\n        \"samples\": [\n          0.41318864774624375,\n          1198.0,\n          0.8870967741935484\n        ],\n        \"semantic_type\": \"\",\n        \"description\": \"\"\n      }\n    },\n    {\n      \"column\": \"accuracy\",\n      \"properties\": {\n        \"dtype\": \"number\",\n        \"std\": 0.0,\n        \"min\": 0.9992565907211652,\n        \"max\": 0.9992565907211652,\n        \"num_unique_values\": 1,\n        \"samples\": [\n          0.9992565907211652\n        ],\n        \"semantic_type\": \"\",\n        \"description\": \"\"\n      }\n    },\n    {\n      \"column\": \"macro avg\",\n      \"properties\": {\n        \"dtype\": \"number\",\n        \"std\": 515193.5947541035,\n        \"min\": 0.7065637172795871,\n        \"max\": 1030388.0,\n        \"num_unique_values\": 4,\n        \"samples\": [\n          0.7065637172795871\n        ],\n        \"semantic_type\": \"\",\n        \"description\": \"\"\n      }\n    },\n    {\n      \"column\": \"weighted avg\",\n      \"properties\": {\n        \"dtype\": \"number\",\n        \"std\": 515193.50040588144,\n        \"min\": 0.9991212330400823,\n        \"max\": 1030388.0,\n        \"num_unique_values\": 4,\n        \"samples\": [\n          0.9992565907211652\n        ],\n        \"semantic_type\": \"\",\n        \"description\": \"\"\n      }\n    }\n  ]\n}"
            }
          },
          "metadata": {},
          "execution_count": 24
        }
      ]
    },
    {
      "cell_type": "markdown",
      "source": [
        "**Save precision-recall-threshold for PRC curve**"
      ],
      "metadata": {
        "id": "rt8Ozc1TCD5q"
      }
    },
    {
      "cell_type": "code",
      "source": [
        "with open(os.path.join(drive_path, \"precision.npy\"), \"wb\") as f:\n",
        "    np.save(f, precision)\n",
        "\n",
        "with open(os.path.join(drive_path, \"recall.npy\"), \"wb\") as f:\n",
        "    np.save(f, recall)\n",
        "\n",
        "with open(os.path.join(drive_path, \"thresholds_pr.npy\"), \"wb\") as f:\n",
        "    np.save(f, thresholds_pr)"
      ],
      "metadata": {
        "id": "aCufLXlOCD5r"
      },
      "execution_count": 26,
      "outputs": []
    }
  ]
}